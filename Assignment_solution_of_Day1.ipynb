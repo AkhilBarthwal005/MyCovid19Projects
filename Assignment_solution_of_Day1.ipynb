{
 "cells": [
  {
   "cell_type": "markdown",
   "metadata": {},
   "source": [
    "# DAY 1 In session exercise"
   ]
  },
  {
   "cell_type": "code",
   "execution_count": 1,
   "metadata": {},
   "outputs": [
    {
     "name": "stdout",
     "output_type": "stream",
     "text": [
      "\t\tReport of District Gwalior\n",
      "\t\t--------------------------\n",
      "10_june_2020 0.9724473257698543% are infected\n",
      "11_june_2020 0.1620745542949757% are infected\n",
      "12_june_2020 0.24311183144246357% are infected\n"
     ]
    }
   ],
   "source": [
    "#district='Gwalior'\n",
    "infacted_total_till_date=1234\n",
    "'''infacted_on_10june2020=12\n",
    "infacted_on_11june2020=2\n",
    "infacted_on_12june2020=13'''\n",
    "print(\"\\t\\tReport of District Gwalior\")\n",
    "print(\"\\t\\t--------------------------\")\n",
    "list=[12,2,3]\n",
    "for i in range(3):\n",
    "    num=(list[i]/infacted_total_till_date)*100\n",
    "    print(\"{}_june_2020 {}% are infected\".format(i+10,num))\n"
   ]
  },
  {
   "cell_type": "code",
   "execution_count": 1,
   "metadata": {},
   "outputs": [
    {
     "name": "stdout",
     "output_type": "stream",
     "text": [
      "['Maharashtra', 'Tamil Nadu', 'delhi', 'gujarat', 'Uttar Pradesh']\n",
      "enter your state from  list=delhi\n",
      "number of infected till now= 89802\n"
     ]
    }
   ],
   "source": [
    "list1=['Maharashtra','Tamil Nadu','delhi','gujarat','Uttar Pradesh']\n",
    "list2=[180298,94049,89802,33232,24056]\n",
    "recoverd=(93154,52926,59992,24030,16629)\n",
    "dic=dict(zip(list1,list2))\n",
    "print(list1)\n",
    "name=input(\"enter your state from  list=\")\n",
    "for state,infected in dic.items():\n",
    "    if name.strip()==state.strip():\n",
    "        print('number of infected till now=',infected)\n",
    "    elif(name in list1):\n",
    "            pass\n",
    "    else:\n",
    "        print('Wromg state!!')"
   ]
  },
  {
   "cell_type": "code",
   "execution_count": null,
   "metadata": {},
   "outputs": [],
   "source": []
  }
 ],
 "metadata": {
  "kernelspec": {
   "display_name": "Python 3",
   "language": "python",
   "name": "python3"
  },
  "language_info": {
   "codemirror_mode": {
    "name": "ipython",
    "version": 3
   },
   "file_extension": ".py",
   "mimetype": "text/x-python",
   "name": "python",
   "nbconvert_exporter": "python",
   "pygments_lexer": "ipython3",
   "version": "3.7.3"
  }
 },
 "nbformat": 4,
 "nbformat_minor": 2
}
