{
 "cells": [
  {
   "cell_type": "markdown",
   "metadata": {},
   "source": [
    "# Day 2 In session exercise"
   ]
  },
  {
   "cell_type": "code",
   "execution_count": 5,
   "metadata": {},
   "outputs": [
    {
     "name": "stdout",
     "output_type": "stream",
     "text": [
      "the IFR=4.196316143957364%\n",
      "the CMR=1.1464%\n"
     ]
    }
   ],
   "source": [
    "'''infected_total_till date=136596\n",
    "recoverd_till_date=67890\n",
    "deaths_till_date=5732\n",
    "no_of_population=500000'''\n",
    "def ifr(infected,deaths):\n",
    "    ifr=(deaths/infected)*100;\n",
    "    print(\"the IFR={}%\".format(ifr))\n",
    "def cmr(deaths,population):\n",
    "    cmr=(deaths/population)*100\n",
    "    print(\"the CMR={}%\".format(cmr))\n",
    "infected=136596\n",
    "recoverd=67890\n",
    "deaths=5732\n",
    "population=500000\n",
    "ifr(infected,deaths)\n",
    "cmr(deaths,population)"
   ]
  },
  {
   "cell_type": "code",
   "execution_count": null,
   "metadata": {},
   "outputs": [],
   "source": []
  }
 ],
 "metadata": {
  "kernelspec": {
   "display_name": "Python 3",
   "language": "python",
   "name": "python3"
  },
  "language_info": {
   "codemirror_mode": {
    "name": "ipython",
    "version": 3
   },
   "file_extension": ".py",
   "mimetype": "text/x-python",
   "name": "python",
   "nbconvert_exporter": "python",
   "pygments_lexer": "ipython3",
   "version": "3.7.3"
  }
 },
 "nbformat": 4,
 "nbformat_minor": 2
}
