{
 "cells": [
  {
   "cell_type": "markdown",
   "metadata": {},
   "source": [
    "# Take Home Excercice"
   ]
  },
  {
   "cell_type": "code",
   "execution_count": 1,
   "metadata": {},
   "outputs": [],
   "source": [
    "#states\n",
    "state_list = [\"Andaman and Nicobar\",\"Andhra Pradesh\",\"Arunachal Pradesh\",\"Assam\",\"Bihar\",\"Chandigarh\",\"Chhattisgarh\",\"Dadra and Nagar Haveli\",\"Delhi\",\"Goa\",\"Gujarat\",\"Haryana\",\"Himachal Pradesh\",\"Jammu and kashmir\",\"Jharkhand\",\"Karnataka\",\"Kerala\",\"Ladakh\",\"Lakshadweep\",\"Maharashtra\",\"Manipur\",\"Meghalaya\",\n",
    "              \"Mizoram\",\"Madhya Pradesh\",\"Nagaland\",\"Odisha\",\"Puducherry\",\"Punjab\",\"Rajasthan\",\"Sikkim\",\"Tamil Nadu\",\"Telengana\",\n",
    "              \"Tripura\",\"Uttar Pradesh\",\"Uttarakhand\",\"West Bengal\"]"
   ]
  },
  {
   "cell_type": "code",
   "execution_count": 2,
   "metadata": {},
   "outputs": [
    {
     "data": {
      "text/plain": [
       "['Andaman and Nicobar',\n",
       " 'Andhra Pradesh',\n",
       " 'Arunachal Pradesh',\n",
       " 'Assam',\n",
       " 'Bihar',\n",
       " 'Chandigarh',\n",
       " 'Chhattisgarh',\n",
       " 'Dadra and Nagar Haveli',\n",
       " 'Delhi',\n",
       " 'Goa',\n",
       " 'Gujarat',\n",
       " 'Haryana',\n",
       " 'Himachal Pradesh',\n",
       " 'Jammu and kashmir',\n",
       " 'Jharkhand',\n",
       " 'Karnataka',\n",
       " 'Kerala',\n",
       " 'Ladakh',\n",
       " 'Lakshadweep',\n",
       " 'Maharashtra',\n",
       " 'Manipur',\n",
       " 'Meghalaya',\n",
       " 'Mizoram',\n",
       " 'Madhya Pradesh',\n",
       " 'Nagaland',\n",
       " 'Odisha',\n",
       " 'Puducherry',\n",
       " 'Punjab',\n",
       " 'Rajasthan',\n",
       " 'Sikkim',\n",
       " 'Tamil Nadu',\n",
       " 'Telengana',\n",
       " 'Tripura',\n",
       " 'Uttar Pradesh',\n",
       " 'Uttarakhand',\n",
       " 'West Bengal']"
      ]
     },
     "execution_count": 2,
     "metadata": {},
     "output_type": "execute_result"
    }
   ],
   "source": [
    "state_list"
   ]
  },
  {
   "cell_type": "code",
   "execution_count": 14,
   "metadata": {},
   "outputs": [
    {
     "name": "stdout",
     "output_type": "stream",
     "text": [
      "[100, 15252, 195, 8582, 10249, 446, 2940, 215, 89802, 1387, 33232, 14941, 979, 7695, 2521, 16514, 4593, 990, 1, 180298, 1260, 52, 160, 13861, 459, 7316, 714, 5668, 18312, 101, 94049, 17357, 1396, 24056, 2947, 19170]\n"
     ]
    }
   ],
   "source": [
    "#infected \n",
    "infected_list= [100,15252,195,8582,10249,446,2940,215,89802,1387,33232,14941,979,7695,2521,16514,4593,990,1,180298,1260,52,160,13861,459,7316,714,5668,18312,101,94049,17357,1396,24056,2947,19170]\n",
    "print(infected_list)"
   ]
  },
  {
   "cell_type": "code",
   "execution_count": 4,
   "metadata": {},
   "outputs": [
    {
     "data": {
      "text/plain": [
       "(50,\n",
       " 6988,\n",
       " 66,\n",
       " 5851,\n",
       " 7946,\n",
       " 367,\n",
       " 2303,\n",
       " 86,\n",
       " 86,\n",
       " 59992,\n",
       " 670,\n",
       " 24030,\n",
       " 10499,\n",
       " 614,\n",
       " 4856,\n",
       " 1931,\n",
       " 8063,\n",
       " 2439,\n",
       " 694,\n",
       " 0,\n",
       " 93154,\n",
       " 579,\n",
       " 42,\n",
       " 123,\n",
       " 10655,\n",
       " 168,\n",
       " 5353,\n",
       " 272,\n",
       " 3867,\n",
       " 14574,\n",
       " 53,\n",
       " 52926,\n",
       " 8082,\n",
       " 1093,\n",
       " 16629,\n",
       " 2317,\n",
       " 12528)"
      ]
     },
     "execution_count": 4,
     "metadata": {},
     "output_type": "execute_result"
    }
   ],
   "source": [
    "#number of recovered statewise\n",
    "recovered= (50,6988,66,5851,7946,367,2303,86,86,59992,670,24030,10499,614,4856,1931,8063,2439,694,0,93154,579,42,123,10655,168,5353,272,3867,14574,53,52926,8082,1093,16629,2317,12528)\n",
    "recovered"
   ]
  },
  {
   "cell_type": "code",
   "execution_count": 33,
   "metadata": {},
   "outputs": [
    {
     "data": {
      "text/plain": [
       "[0,\n",
       " 193,\n",
       " 1,\n",
       " 12,\n",
       " 70,\n",
       " 6,\n",
       " 14,\n",
       " 0,\n",
       " 2803,\n",
       " 4,\n",
       " 1867,\n",
       " 240,\n",
       " 10,\n",
       " 105,\n",
       " 15,\n",
       " 253,\n",
       " 24,\n",
       " 1,\n",
       " 0,\n",
       " 581,\n",
       " 8053,\n",
       " 0,\n",
       " 27,\n",
       " 12,\n",
       " 152,\n",
       " 25,\n",
       " 12,\n",
       " 149,\n",
       " 421,\n",
       " 0,\n",
       " 1264,\n",
       " 267,\n",
       " 1,\n",
       " 718,\n",
       " 41,\n",
       " 683]"
      ]
     },
     "execution_count": 33,
     "metadata": {},
     "output_type": "execute_result"
    }
   ],
   "source": [
    "#number of deaths in states.\n",
    "death_list=[0,193,1,12,70,6,14,0,2803,4,1867,240,10,105,15,253,24,1,0,581,8053,0,27,12,152,25,12,149,421,0,1264,267,1,718,41,683,]\n",
    "death_list"
   ]
  },
  {
   "cell_type": "code",
   "execution_count": 36,
   "metadata": {},
   "outputs": [
    {
     "name": "stdout",
     "output_type": "stream",
     "text": [
      "{'Andaman and Nicobar': 100, 'Andhra Pradesh': 15252, 'Arunachal Pradesh': 195, 'Assam': 8582, 'Bihar': 10249, 'Chandigarh': 446, 'Chhattisgarh': 2940, 'Dadra and Nagar Haveli': 215, 'Delhi': 89802, 'Goa': 1387, 'Gujarat': 33232, 'Haryana': 14941, 'Himachal Pradesh': 979, 'Jammu and kashmir': 7695, 'Jharkhand': 2521, 'Karnataka': 16514, 'Kerala': 4593, 'Ladakh': 990, 'Lakshadweep': 1, 'Maharashtra': 180298, 'Manipur': 1260, 'Meghalaya': 52, 'Mizoram': 160, 'Madhya Pradesh': 13861, 'Nagaland': 459, 'Odisha': 7316, 'Puducherry': 714, 'Punjab': 5668, 'Rajasthan': 18312, 'Sikkim': 101, 'Tamil Nadu': 94049, 'Telengana': 17357, 'Tripura': 1396, 'Uttar Pradesh': 24056, 'Uttarakhand': 2947, 'West Bengal': 19170}\n"
     ]
    }
   ],
   "source": [
    "dic1=dict(zip(state_list,infected_list))\n",
    "print(dic1)"
   ]
  },
  {
   "cell_type": "code",
   "execution_count": 35,
   "metadata": {},
   "outputs": [
    {
     "name": "stdout",
     "output_type": "stream",
     "text": [
      "{'Andaman and Nicobar': 0, 'Andhra Pradesh': 193, 'Arunachal Pradesh': 1, 'Assam': 12, 'Bihar': 70, 'Chandigarh': 6, 'Chhattisgarh': 14, 'Dadra and Nagar Haveli': 0, 'Delhi': 2803, 'Goa': 4, 'Gujarat': 1867, 'Haryana': 240, 'Himachal Pradesh': 10, 'Jammu and kashmir': 105, 'Jharkhand': 15, 'Karnataka': 253, 'Kerala': 24, 'Ladakh': 1, 'Lakshadweep': 0, 'Maharashtra': 581, 'Manipur': 8053, 'Meghalaya': 0, 'Mizoram': 27, 'Madhya Pradesh': 12, 'Nagaland': 152, 'Odisha': 25, 'Puducherry': 12, 'Punjab': 149, 'Rajasthan': 421, 'Sikkim': 0, 'Tamil Nadu': 1264, 'Telengana': 267, 'Tripura': 1, 'Uttar Pradesh': 718, 'Uttarakhand': 41, 'West Bengal': 683}\n"
     ]
    }
   ],
   "source": [
    "dic2=dict(zip(state_list,death_list))\n",
    "print(dic2)"
   ]
  },
  {
   "cell_type": "code",
   "execution_count": null,
   "metadata": {},
   "outputs": [],
   "source": []
  },
  {
   "cell_type": "code",
   "execution_count": 30,
   "metadata": {},
   "outputs": [],
   "source": [
    "def ifr(infected,deaths):\n",
    "    ifr=(deaths/infected)*100;\n",
    "    print(\"the IFR={}%\".format(ifr))"
   ]
  },
  {
   "cell_type": "code",
   "execution_count": 31,
   "metadata": {},
   "outputs": [],
   "source": [
    "def cmr(deaths,population):\n",
    "    cmr=(deaths/population)*10000\n",
    "    print(\"the CMR={}%\".format(cmr))"
   ]
  },
  {
   "cell_type": "code",
   "execution_count": null,
   "metadata": {},
   "outputs": [],
   "source": []
  },
  {
   "cell_type": "code",
   "execution_count": 39,
   "metadata": {},
   "outputs": [
    {
     "name": "stdout",
     "output_type": "stream",
     "text": [
      "enter your state from  list=delhi\n",
      "the IFR=3.1213113293690564%\n",
      "enter Population of your state=100000000\n",
      "the CMR=0.002803%\n"
     ]
    }
   ],
   "source": [
    "name=input(\"enter your state from  list=\").title()\n",
    "for state,infected in dic1.items():\n",
    "    if name.strip()==state.strip():\n",
    "        deaths=dic2[state]\n",
    "        ifr(infected,deaths)\n",
    "        population=int(input(\"enter Population of your state=\"))\n",
    "        cmr(deaths,population)\n",
    "    elif(name in state_list):\n",
    "            pass\n",
    "    else:\n",
    "        print('Wromg state!!')"
   ]
  },
  {
   "cell_type": "code",
   "execution_count": null,
   "metadata": {},
   "outputs": [],
   "source": []
  },
  {
   "cell_type": "code",
   "execution_count": null,
   "metadata": {},
   "outputs": [],
   "source": []
  }
 ],
 "metadata": {
  "kernelspec": {
   "display_name": "Python 3",
   "language": "python",
   "name": "python3"
  },
  "language_info": {
   "codemirror_mode": {
    "name": "ipython",
    "version": 3
   },
   "file_extension": ".py",
   "mimetype": "text/x-python",
   "name": "python",
   "nbconvert_exporter": "python",
   "pygments_lexer": "ipython3",
   "version": "3.7.3"
  }
 },
 "nbformat": 4,
 "nbformat_minor": 2
}
