{
 "cells": [
  {
   "cell_type": "markdown",
   "metadata": {},
   "source": [
    "# State Wise Covid19 Confirm_Case THE#1"
   ]
  },
  {
   "cell_type": "code",
   "execution_count": 1,
   "metadata": {},
   "outputs": [],
   "source": [
    "#states\n",
    "state_list = [\"Andaman and Nicobar\",\"Andhra Pradesh\",\"Arunachal Pradesh\",\"Assam\",\"Bihar\",\"Chandigarh\",\"Chhattisgarh\",\"Dadra and Nagar Haveli\",\"Delhi\",\"Goa\",\"Gujarat\",\"Haryana\",\"Himachal Pradesh\",\"Jammu and kashmir\",\"Jharkhand\",\"Karnataka\",\"Kerala\",\"Ladakh\",\"Lakshadweep\",\"Maharashtra\",\"Manipur\",\"Meghalaya\",\n",
    "              \"Mizoram\",\"Madhya Pradesh\",\"Nagaland\",\"Odisha\",\"Puducherry\",\"Punjab\",\"Rajasthan\",\"Sikkim\",\"Tamil Nadu\",\"Telengana\",\n",
    "              \"Tripura\",\"Uttar Pradesh\",\"Uttarakhand\",\"West Bengal\"]"
   ]
  },
  {
   "cell_type": "code",
   "execution_count": 2,
   "metadata": {},
   "outputs": [
    {
     "data": {
      "text/plain": [
       "['Andaman and Nicobar',\n",
       " 'Andhra Pradesh',\n",
       " 'Arunachal Pradesh',\n",
       " 'Assam',\n",
       " 'Bihar',\n",
       " 'Chandigarh',\n",
       " 'Chhattisgarh',\n",
       " 'Dadra and Nagar Haveli',\n",
       " 'Delhi',\n",
       " 'Goa',\n",
       " 'Gujarat',\n",
       " 'Haryana',\n",
       " 'Himachal Pradesh',\n",
       " 'Jammu and kashmir',\n",
       " 'Jharkhand',\n",
       " 'Karnataka',\n",
       " 'Kerala',\n",
       " 'Ladakh',\n",
       " 'Lakshadweep',\n",
       " 'Maharashtra',\n",
       " 'Manipur',\n",
       " 'Meghalaya',\n",
       " 'Mizoram',\n",
       " 'Madhya Pradesh',\n",
       " 'Nagaland',\n",
       " 'Odisha',\n",
       " 'Puducherry',\n",
       " 'Punjab',\n",
       " 'Rajasthan',\n",
       " 'Sikkim',\n",
       " 'Tamil Nadu',\n",
       " 'Telengana',\n",
       " 'Tripura',\n",
       " 'Uttar Pradesh',\n",
       " 'Uttarakhand',\n",
       " 'West Bengal']"
      ]
     },
     "execution_count": 2,
     "metadata": {},
     "output_type": "execute_result"
    }
   ],
   "source": [
    "state_list"
   ]
  },
  {
   "cell_type": "code",
   "execution_count": 3,
   "metadata": {},
   "outputs": [
    {
     "name": "stdout",
     "output_type": "stream",
     "text": [
      "[100, 15252, 195, 8582, 10249, 446, 2940, 215, 89802, 1387, 33232, 14941, 979, 7695, 2521, 16514, 4593, 990, 1, 180298, 1260, 52, 160, 13861, 459, 7316, 714, 5668, 18312, 101, 94049, 17357, 1396, 24056, 2947, 19170]\n"
     ]
    }
   ],
   "source": [
    "#infected \n",
    "infected = [100,15252,195,8582,10249,446,2940,215,89802,1387,33232,14941,979,7695,2521,16514,4593,990,1,180298,1260,52,160,13861,459,7316,714,5668,18312,101,94049,17357,1396,24056,2947,19170]\n",
    "print(infected)"
   ]
  },
  {
   "cell_type": "code",
   "execution_count": 4,
   "metadata": {},
   "outputs": [
    {
     "data": {
      "text/plain": [
       "(50,\n",
       " 6988,\n",
       " 66,\n",
       " 5851,\n",
       " 7946,\n",
       " 367,\n",
       " 2303,\n",
       " 86,\n",
       " 86,\n",
       " 59992,\n",
       " 670,\n",
       " 24030,\n",
       " 10499,\n",
       " 614,\n",
       " 4856,\n",
       " 1931,\n",
       " 8063,\n",
       " 2439,\n",
       " 694,\n",
       " 0,\n",
       " 93154,\n",
       " 579,\n",
       " 42,\n",
       " 123,\n",
       " 10655,\n",
       " 168,\n",
       " 5353,\n",
       " 272,\n",
       " 3867,\n",
       " 14574,\n",
       " 53,\n",
       " 52926,\n",
       " 8082,\n",
       " 1093,\n",
       " 16629,\n",
       " 2317,\n",
       " 12528)"
      ]
     },
     "execution_count": 4,
     "metadata": {},
     "output_type": "execute_result"
    }
   ],
   "source": [
    "#number of recovered statewise\n",
    "recovered= (50,6988,66,5851,7946,367,2303,86,86,59992,670,24030,10499,614,4856,1931,8063,2439,694,0,93154,579,42,123,10655,168,5353,272,3867,14574,53,52926,8082,1093,16629,2317,12528)\n",
    "recovered"
   ]
  },
  {
   "cell_type": "code",
   "execution_count": 5,
   "metadata": {},
   "outputs": [
    {
     "name": "stdout",
     "output_type": "stream",
     "text": [
      "{'Andaman and Nicobar': 100, 'Andhra Pradesh': 15252, 'Arunachal Pradesh': 195, 'Assam': 8582, 'Bihar': 10249, 'Chandigarh': 446, 'Chhattisgarh': 2940, 'Dadra and Nagar Haveli': 215, 'Delhi': 89802, 'Goa': 1387, 'Gujarat': 33232, 'Haryana': 14941, 'Himachal Pradesh': 979, 'Jammu and kashmir': 7695, 'Jharkhand': 2521, 'Karnataka': 16514, 'Kerala': 4593, 'Ladakh': 990, 'Lakshadweep': 1, 'Maharashtra': 180298, 'Manipur': 1260, 'Meghalaya': 52, 'Mizoram': 160, 'Madhya Pradesh': 13861, 'Nagaland': 459, 'Odisha': 7316, 'Puducherry': 714, 'Punjab': 5668, 'Rajasthan': 18312, 'Sikkim': 101, 'Tamil Nadu': 94049, 'Telengana': 17357, 'Tripura': 1396, 'Uttar Pradesh': 24056, 'Uttarakhand': 2947, 'West Bengal': 19170}\n"
     ]
    }
   ],
   "source": [
    "dic=dict(zip(state_list,infected))\n",
    "print(dic)"
   ]
  },
  {
   "cell_type": "code",
   "execution_count": 6,
   "metadata": {},
   "outputs": [
    {
     "name": "stdout",
     "output_type": "stream",
     "text": [
      "enter your state from  list=delhi\n",
      "number of infected till now= 89802\n"
     ]
    }
   ],
   "source": [
    "name=input(\"enter your state from  list=\").title()\n",
    "for state,infected in dic.items():\n",
    "    if name.strip()==state.strip():\n",
    "        print('number of infected till now=',infected)\n",
    "    elif(name in state_list):\n",
    "            pass\n",
    "    else:\n",
    "        print('Wromg state!!')"
   ]
  },
  {
   "cell_type": "code",
   "execution_count": null,
   "metadata": {},
   "outputs": [],
   "source": [
    "\n"
   ]
  },
  {
   "cell_type": "code",
   "execution_count": null,
   "metadata": {},
   "outputs": [],
   "source": []
  }
 ],
 "metadata": {
  "kernelspec": {
   "display_name": "Python 3",
   "language": "python",
   "name": "python3"
  },
  "language_info": {
   "codemirror_mode": {
    "name": "ipython",
    "version": 3
   },
   "file_extension": ".py",
   "mimetype": "text/x-python",
   "name": "python",
   "nbconvert_exporter": "python",
   "pygments_lexer": "ipython3",
   "version": "3.7.3"
  }
 },
 "nbformat": 4,
 "nbformat_minor": 2
}
